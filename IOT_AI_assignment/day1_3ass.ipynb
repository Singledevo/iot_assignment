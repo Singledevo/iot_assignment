{
 "cells": [
  {
   "cell_type": "code",
   "execution_count": 1,
   "id": "0357c7f3-267b-480f-b39f-a3875ed7bf39",
   "metadata": {},
   "outputs": [],
   "source": [
    "import pandas as pd"
   ]
  },
  {
   "cell_type": "code",
   "execution_count": 3,
   "id": "75ddc326-bd9f-4acb-8502-b5230d3b272f",
   "metadata": {},
   "outputs": [],
   "source": [
    "def function1():\n",
    "    n1= pd.Series([2,4,6,8,10])\n",
    "    n2 =pd.Series([3,5,7,9,11])\n",
    "    print(n1+n2)\n",
    "    print(n1*n2)\n",
    "    print(n1/n2)\n",
    "    print(n1-n2)"
   ]
  },
  {
   "cell_type": "code",
   "execution_count": 4,
   "id": "c820d926-fec3-46c4-b804-7b59c1a0d86c",
   "metadata": {},
   "outputs": [
    {
     "name": "stdout",
     "output_type": "stream",
     "text": [
      "0     5\n",
      "1     9\n",
      "2    13\n",
      "3    17\n",
      "4    21\n",
      "dtype: int64\n",
      "0      6\n",
      "1     20\n",
      "2     42\n",
      "3     72\n",
      "4    110\n",
      "dtype: int64\n",
      "0    0.666667\n",
      "1    0.800000\n",
      "2    0.857143\n",
      "3    0.888889\n",
      "4    0.909091\n",
      "dtype: float64\n",
      "0   -1\n",
      "1   -1\n",
      "2   -1\n",
      "3   -1\n",
      "4   -1\n",
      "dtype: int64\n"
     ]
    }
   ],
   "source": [
    "function1()"
   ]
  },
  {
   "cell_type": "code",
   "execution_count": null,
   "id": "78a7520d-36f2-45d8-8923-9166631bce16",
   "metadata": {},
   "outputs": [],
   "source": []
  }
 ],
 "metadata": {
  "kernelspec": {
   "display_name": "Python 3 (ipykernel)",
   "language": "python",
   "name": "python3"
  },
  "language_info": {
   "codemirror_mode": {
    "name": "ipython",
    "version": 3
   },
   "file_extension": ".py",
   "mimetype": "text/x-python",
   "name": "python",
   "nbconvert_exporter": "python",
   "pygments_lexer": "ipython3",
   "version": "3.12.3"
  }
 },
 "nbformat": 4,
 "nbformat_minor": 5
}
