{
 "cells": [
  {
   "cell_type": "code",
   "execution_count": 1,
   "id": "1b6d6dc7-2e1b-4283-beab-d176f351ffc9",
   "metadata": {},
   "outputs": [],
   "source": [
    "import pandas as pd"
   ]
  },
  {
   "cell_type": "code",
   "execution_count": 2,
   "id": "80a166e9-f65a-4947-8d3b-192201dd7c48",
   "metadata": {},
   "outputs": [
    {
     "name": "stdout",
     "output_type": "stream",
     "text": [
      "n1=0    23\n",
      "1    22\n",
      "2    24\n",
      "3    25\n",
      "4    26\n",
      "dtype: int64\n",
      " type of n1 =<class 'pandas.core.series.Series'>\n"
     ]
    }
   ],
   "source": [
    "n1 = pd.Series([23,22,24,25,26])\n",
    "print(f\"n1={n1}\\n type of n1 ={type(n1)}\")"
   ]
  },
  {
   "cell_type": "code",
   "execution_count": null,
   "id": "ab683147-d439-405a-9c57-80ef32cb1d21",
   "metadata": {},
   "outputs": [],
   "source": []
  }
 ],
 "metadata": {
  "kernelspec": {
   "display_name": "Python 3 (ipykernel)",
   "language": "python",
   "name": "python3"
  },
  "language_info": {
   "codemirror_mode": {
    "name": "ipython",
    "version": 3
   },
   "file_extension": ".py",
   "mimetype": "text/x-python",
   "name": "python",
   "nbconvert_exporter": "python",
   "pygments_lexer": "ipython3",
   "version": "3.12.3"
  }
 },
 "nbformat": 4,
 "nbformat_minor": 5
}
